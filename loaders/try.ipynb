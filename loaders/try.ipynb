{
 "cells": [
  {
   "cell_type": "code",
   "execution_count": 9,
   "id": "1111e049",
   "metadata": {},
   "outputs": [],
   "source": [
    "import os\n",
    "\n",
    "from langchain_community.document_loaders import (\n",
    "    PyPDFLoader,\n",
    "    TextLoader,\n",
    "    CSVLoader,\n",
    "    # UnstructuredWordLoader\n",
    ")\n"
   ]
  },
  {
   "cell_type": "code",
   "execution_count": 1,
   "id": "950d9a29",
   "metadata": {},
   "outputs": [],
   "source": [
    "from langchain_community.document_loaders import UnstructuredFileLoader"
   ]
  },
  {
   "cell_type": "code",
   "execution_count": 6,
   "id": "14999c70",
   "metadata": {},
   "outputs": [],
   "source": [
    "import os"
   ]
  },
  {
   "cell_type": "code",
   "execution_count": 9,
   "id": "3e356aa2",
   "metadata": {},
   "outputs": [
    {
     "data": {
      "text/plain": [
       "''"
      ]
     },
     "execution_count": 9,
     "metadata": {},
     "output_type": "execute_result"
    }
   ],
   "source": [
    "file_path = os.getcwd() + '\\\\Phishing_Websites_Features'\n",
    "os.path.splitext(file_path)[1]"
   ]
  },
  {
   "cell_type": "code",
   "execution_count": 10,
   "id": "b2118958",
   "metadata": {},
   "outputs": [
    {
     "data": {
      "text/plain": [
       "'Phishing_Websites_Features'"
      ]
     },
     "execution_count": 10,
     "metadata": {},
     "output_type": "execute_result"
    }
   ],
   "source": [
    "os.path.basename(file_path)"
   ]
  },
  {
   "cell_type": "code",
   "execution_count": 15,
   "id": "caf94849",
   "metadata": {},
   "outputs": [
    {
     "data": {
      "text/plain": [
       "True"
      ]
     },
     "execution_count": 15,
     "metadata": {},
     "output_type": "execute_result"
    }
   ],
   "source": [
    "file_path = 'c:\\\\Users\\\\ramag\\\\Desktop\\\\Forest\\\\Hunting_Ground\\\\Python\\\\Generative AI\\\\Agents\\\\Tars\\\\tars-backend\\\\Phishing_Websites_Features.DOCX'\n",
    "os.path.isfile(file_path)"
   ]
  },
  {
   "cell_type": "code",
   "execution_count": 16,
   "id": "b91aa1fb",
   "metadata": {},
   "outputs": [
    {
     "data": {
      "text/plain": [
       "'c:\\\\Users\\\\ramag\\\\Desktop\\\\Forest\\\\Hunting_Ground\\\\Python\\\\Generative AI\\\\Agents\\\\Tars\\\\tars-backend\\\\Phishing_Websites_Features.DOCX'"
      ]
     },
     "execution_count": 16,
     "metadata": {},
     "output_type": "execute_result"
    }
   ],
   "source": [
    "file_path"
   ]
  },
  {
   "cell_type": "code",
   "execution_count": 17,
   "id": "a79c3caf",
   "metadata": {},
   "outputs": [
    {
     "name": "stderr",
     "output_type": "stream",
     "text": [
      "C:\\Users\\ramag\\AppData\\Local\\Temp\\ipykernel_7620\\3774862185.py:1: LangChainDeprecationWarning: The class `UnstructuredFileLoader` was deprecated in LangChain 0.2.8 and will be removed in 1.0. An updated version of the class exists in the :class:`~langchain-unstructured package and should be used instead. To use it run `pip install -U :class:`~langchain-unstructured` and import as `from :class:`~langchain_unstructured import UnstructuredLoader``.\n",
      "  loader = UnstructuredFileLoader(file_path)\n"
     ]
    },
    {
     "name": "stdout",
     "output_type": "stream",
     "text": [
      "page_content='Phishing Websites Features Rami M. Mohammad School of Computing and Engineering University of Huddersfield Huddersfield, UK. rami.mohammad@hud.ac.uk Fadi Thabtah E-Business Department Canadian University of Dubai Dubai, UAE. fadi@cud.ac.ae Lee McCluskey School of Computing and Engineering University of Huddersfield Huddersfield, UK. t.l.mccluskey@hud.ac.uk\n",
      "\n",
      "Phishing Websites Features\n",
      "\n",
      "One of the challenges faced by our research was the unavailability of reliable training datasets. In fact, this challenge faces any researcher in the field. However, although plenty of articles about predicting phishing websites using data mining techniques have been disseminated these days, no reliable training dataset has been published publically, maybe because there is no agreement in literature on the definitive features that characterize phishing websites, hence it is difficult to shape a dataset that covers all possible features. \n",
      "\n",
      "In this article, we shed light on the important features that have proved to be sound and effective in predicting phishing websites. In addition, we proposed some new features, experimentally assign new rules to some well-known features and update some other features.\n",
      "\n",
      "Address Bar based Features\n",
      "\n",
      "Using the IP Address\n",
      "\n",
      "If an IP address is used as an alternative of the domain name in the URL, such as “http://125.98.3.123/fake.html”, users can be sure that someone is trying to steal their personal information. Sometimes, the IP address is even transformed into hexadecimal code as shown in the following link “http://0x58.0xCC.0xCA.0x62/2/paypal.ca/index.html”. \n",
      "\n",
      "Rule: IF\n",
      "\n",
      "Long URL to Hide the Suspicious Part\n",
      "\n",
      "Phishers can use long URL to hide the doubtful part in the address bar. For example: \n",
      "\n",
      "http://federmacedoadv.com.br/3f/aze/ab51e2e319e51502f416dbe46b773a5e/?cmd=_home&amp;dispatch=11004d58f5b74f8dc1e7c2e8dd4105e811004d58f5b74f8dc1e7c2e8dd4105e8@phishing.website.html\n",
      "\n",
      "To ensure accuracy of our study, we calculated the length of URLs in the dataset and produced an average URL length. The results showed that if the length of the URL is greater than or equal 54 characters then the URL classified as phishing. By reviewing our dataset we were able to find 1220 URLs lengths equals to 54 or more which constitute 48.8% of the total dataset size.\n",
      "\n",
      "\n",
      "\n",
      "Rule: IF\n",
      "\n",
      "We have been able to update this feature rule by using a method based on frequency and thus improving upon its accuracy.\n",
      "\n",
      "Using URL Shortening Services “TinyURL”\n",
      "\n",
      "URL shortening is a method on the “World Wide Web” in which a URL may be made considerably smaller in length and still lead to the required webpage. This is accomplished by means of an “HTTP Redirect” on a domain name that is short, which links to the webpage that has a long URL. For example, the URL “http://portal.hud.ac.uk/” can be shortened to “bit.ly/19DXSk4”.\n",
      "\n",
      "Rule: IF\n",
      "\n",
      "URL’s having “@” Symbol\n",
      "\n",
      "Using “@” symbol in the URL leads the browser to ignore everything preceding the “@” symbol and the real address often follows the “@” symbol. \n",
      "\n",
      "Rule: IF \n",
      "\n",
      "Redirecting using “//”\n",
      "\n",
      "The existence of “//” within the URL path means that the user will be redirected to another website. An example of such URL’s is: “http://www.legitimate.com//http://www.phishing.com”. We examin the location where the “//” appears. We find that if the URL starts with “HTTP”, that means the “//” should appear in the sixth position. However, if the URL employs “HTTPS” then the “//” should appear in seventh position.\n",
      "\n",
      "Rule: IF \n",
      "\n",
      "Adding Prefix or Suffix Separated by (-) to the Domain\n",
      "\n",
      "The dash symbol is rarely used in legitimate URLs. Phishers tend to add prefixes or suffixes separated by (-) to the domain name so that users feel that they are dealing with a legitimate webpage. For example http://www.Confirme-paypal.com/.\n",
      "\n",
      "Rule: IF \n",
      "\n",
      "Sub Domain and Multi Sub Domains\n",
      "\n",
      "Let us assume we have the following link: http://www.hud.ac.uk/students/. A domain name might include the country-code top-level domains (ccTLD), which in our example is “uk”. The “ac” part is shorthand for “academic”, the combined “ac.uk” is called a second-level domain (SLD) and “hud” is the actual name of the domain. To produce a rule for extracting this feature, we firstly have to omit the (www.) from the URL which is in fact a sub domain in itself. Then, we have to remove the (ccTLD) if it exists. Finally, we count the remaining dots. If the number of dots is greater than one, then the URL is classified as “Suspicious” since it has one sub domain. However, if the dots are greater than two, it is classified as “Phishing” since it will have multiple sub domains. Otherwise, if the URL has no sub domains, we will assign “Legitimate” to the feature. \n",
      "\n",
      "Rule: IF \n",
      "\n",
      "\n",
      "\n",
      "HTTPS (Hyper Text Transfer Protocol with Secure Sockets Layer)\n",
      "\n",
      "The existence of HTTPS is very important in giving the impression of website legitimacy, but this is clearly not enough. The authors in   suggest checking the certificate assigned with HTTPS including the extent of the trust certificate issuer, and the certificate age. Certificate Authorities that are consistently listed among the top trustworthy names include: “GeoTrust, GoDaddy, Network Solutions, Thawte, Comodo, Doster and VeriSign”. Furthermore, by testing out our datasets, we find that the minimum age of a reputable certificate is two years.\n",
      "\n",
      "Rule: IF\n",
      "\n",
      "Domain Registration Length\n",
      "\n",
      "Based on the fact that a phishing website lives for a short period of time, we believe that trustworthy domains are regularly paid for several years in advance. In our dataset, we find that the longest fraudulent domains have been used for one year only. \n",
      "\n",
      "Rule: IF\n",
      "\n",
      "Favicon\n",
      "\n",
      "A favicon is a graphic image (icon) associated with a specific webpage. Many existing user agents such as graphical browsers and newsreaders show favicon as a visual reminder of the website identity in the address bar. If the favicon is loaded from a domain other than that shown in the address bar, then the webpage is likely to be considered a Phishing attempt. \n",
      "\n",
      "Rule: IF\n",
      "\n",
      "Using Non-Standard Port\n",
      "\n",
      "This feature is useful in validating if a particular service (e.g. HTTP) is up or down on a specific server. In the aim of controlling intrusions, it is much better to merely open ports that you need. Several firewalls, Proxy and Network Address Translation (NAT) servers will, by default, block all or most of the ports and only open the ones selected. If all ports are open, phishers can run almost any service they want and as a result, user information is threatened. The most important ports and their preferred status are shown in Table 2. \n",
      "\n",
      "Rule: IF\n",
      "\n",
      "Table 1 Common ports to be checked\n",
      "\n",
      "PORT Service Meaning Preferred Status 21 FTP Transfer files from one host to another Close 22 SSH Secure File Transfer Protocol Close 23 Telnet provide a bidirectional interactive text-oriented communication Close 80 HTTP Hyper test transfer protocol Open 443 HTTPS Hypertext transfer protocol secured Open 445 SMB Providing shared access to files, printers, serial ports Close 1433 MSSQL Store and retrieve data as requested by other software applications Close 1521 ORACLE Access oracle database from web. Close 3306 MySQL Access MySQL database from web. Close 3389 Remote Desktop allow remote access and remote collaboration Close\n",
      "\n",
      "\n",
      "\n",
      "The Existence of “HTTPS” Token in the Domain Part of the URL\n",
      "\n",
      "The phishers may add the “HTTPS” token to the domain part of a URL in order to trick users. For example,\n",
      "http://https-www-paypal-it-webapps-mpp-home.soft-hair.com/.\n",
      "\n",
      "Rule: IF\n",
      "\n",
      "Abnormal Based Features\n",
      "\n",
      "Request URL\n",
      "\n",
      "Request URL examines whether the external objects contained within a webpage such as images, videos and sounds are loaded from another domain. In legitimate webpages, the webpage address and most of objects embedded within the webpage are sharing the same domain. \n",
      "\n",
      "Rule: IF \n",
      "\n",
      "URL of Anchor\n",
      "\n",
      "An anchor is an element defined by the <a> tag. This feature is treated exactly as “Request URL”. However, for this feature we examine:\n",
      "\n",
      "If the <a> tags and the website have different domain names. This is similar to request URL feature.\n",
      "\n",
      "If the anchor does not link to any webpage, e.g.:\n",
      "\n",
      "<a href=“#”>\n",
      "\n",
      "<a href=“#content”>\n",
      "\n",
      "<a href=“#skip”>\n",
      "\n",
      "<a href=“JavaScript ::void(0)”>\n",
      "\n",
      "Rule:  IF\n",
      "\n",
      "Links in <Meta>, <Script> and <Link> tags\n",
      "\n",
      "Given that our investigation covers all angles likely to be used in the webpage source code, we find that it is common for legitimate websites to use <Meta> tags to offer metadata about the HTML document; <Script> tags to create a client side script; and <Link> tags to retrieve other web resources. It is expected that these tags are linked to the same domain of the webpage. \n",
      "\n",
      "Rule: IF\n",
      "\n",
      "\n",
      "\n",
      "Server Form Handler (SFH)\n",
      "\n",
      "SFHs that contain an empty string or “about:blank” are considered doubtful because an action should be taken upon the submitted information. In addition, if the domain name in SFHs is different from the domain name of the webpage, this reveals that the webpage is suspicious because the submitted information is rarely handled by external domains. \n",
      "\n",
      "Rule: IF\n",
      "\n",
      "Submitting Information to Email\n",
      "\n",
      "Web form allows a user to submit his personal information that is directed to a server for processing. A phisher might redirect the user’s information to his personal email. To that end, a server-side script language might be used such as “mail()” function in PHP. One more client-side function that might be used for this purpose is the “mailto:” function. \n",
      "\n",
      "Rule: IF\n",
      "\n",
      "Abnormal URL\n",
      "\n",
      "This feature can be extracted from WHOIS database. For a legitimate website, identity is typically part of its URL. \n",
      "\n",
      "Rule: IF \n",
      "\n",
      "HTML and JavaScript based Features\n",
      "\n",
      "Website Forwarding\n",
      "\n",
      "The fine line that distinguishes phishing websites from legitimate ones is how many times a website has been redirected. In our dataset, we find that legitimate websites have been redirected one time max. On the other hand, phishing websites containing this feature have been redirected at least 4 times. \n",
      "\n",
      "Rule: IF \n",
      "\n",
      "Status Bar Customization\n",
      "\n",
      "Phishers may use JavaScript to show a fake URL in the status bar to users. To extract this feature, we must dig-out the webpage source code, particularly the “onMouseOver” event, and check if it makes any changes on the status bar. \n",
      "\n",
      "Rule: IF\n",
      "\n",
      "Disabling Right Click\n",
      "\n",
      "Phishers use JavaScript to disable the right-click function, so that users cannot view and save the webpage source code. This feature is treated exactly as “Using onMouseOver to hide the Link”. Nonetheless, for this feature, we will search for event “event.button==2” in the webpage source code and check if the right click is disabled. \n",
      "\n",
      "Rule: IF\n",
      "\n",
      "\n",
      "\n",
      "Using Pop-up Window\n",
      "\n",
      "It is unusual to find a legitimate website asking users to submit their personal information through a pop-up window. On the other hand, this feature has been used in some legitimate websites and its main goal is to warn users about fraudulent activities or broadcast a welcome announcement, though no personal information was asked to be filled in through these pop-up windows.\n",
      "\n",
      "Rule: IF \n",
      "\n",
      "IFrame Redirection\n",
      "\n",
      "IFrame is an HTML tag used to display an additional webpage into one that is currently shown. Phishers can make use of the “iframe” tag and make it invisible i.e. without frame borders. In this regard, phishers make use of the “frameBorder” attribute which causes the browser to render a visual delineation. \n",
      "\n",
      "Rule: IF \n",
      "\n",
      "Domain based Features\n",
      "\n",
      "Age of Domain\n",
      "\n",
      "This feature can be extracted from WHOIS database. Most phishing websites live for a short period of time. By reviewing our dataset, we find that the minimum age of the legitimate domain is 6 months. \n",
      "\n",
      "Rule: IF \n",
      "\n",
      "DNS Record\n",
      "\n",
      "For phishing websites, either the claimed identity is not recognized by the WHOIS database  or no records founded for the hostname . If the DNS record is empty or not found then the website is classified as “Phishing”, otherwise it is classified as “Legitimate”. \n",
      "\n",
      "Rule: IF\n",
      "\n",
      "Website Traffic\n",
      "\n",
      "This feature measures the popularity of the website by determining the number of visitors and the number of pages they visit. However, since phishing websites live for a short period of time, they may not be recognized by the Alexa database. By reviewing our dataset, we find that in worst scenarios, legitimate websites ranked among the top 100,000. Furthermore, if the domain has no traffic or is not recognized by the Alexa database, it is classified as “Phishing”. Otherwise, it is classified as “Suspicious”. \n",
      "\n",
      "Rule: IF\n",
      "\n",
      "PageRank\n",
      "\n",
      "PageRank is a value ranging from “0” to “1”. PageRank aims to measure how important a webpage is on the Internet. The greater the PageRank value the more important the webpage. In our datasets, we find that about 95% of phishing webpages have no PageRank. Moreover, we find that the remaining 5% of phishing webpages may reach a PageRank value up to “0.2”. \n",
      "\n",
      "\n",
      "\n",
      "Rule: IF\n",
      "\n",
      "Google Index\n",
      "\n",
      "This feature examines whether a website is in Google’s index or not. When a site is indexed by Google, it is displayed on search results . Usually, phishing webpages are merely accessible for a short period and as a result, many phishing webpages may not be found on the Google index. \n",
      "\n",
      "Rule: IF\n",
      "\n",
      "Number of Links Pointing to Page\n",
      "\n",
      "The number of links pointing to the webpage indicates its legitimacy level, even if some links are of the same domain . In our datasets and due to its short life span, we find that 98% of phishing dataset items have no links pointing to them. On the other hand, legitimate websites have at least 2 external links pointing to them. \n",
      "\n",
      "Rule: IF\n",
      "\n",
      "Statistical-Reports Based Feature\n",
      "\n",
      "Several parties such as PhishTank , and StopBadware  formulate numerous statistical reports on phishing websites at every given period of time; some are monthly and others are quarterly. In our research, we used 2 forms of the top ten statistics from PhishTank: “Top 10 Domains” and “Top 10 IPs” according to statistical-reports published in the last three years, starting in January2010 to November 2012. Whereas for “StopBadware”, we used “Top 50” IP addresses.\n",
      "\n",
      "Rule: IF' metadata={'source': 'Phishing_Websites_Features.DOCX'}\n"
     ]
    }
   ],
   "source": [
    "loader = UnstructuredFileLoader(file_path)\n",
    "docs = loader.load()\n",
    "for doc in docs:\n",
    "    doc.metadata[\"source\"] = os.path.basename(file_path)\n",
    "    print(doc)\n",
    "    "
   ]
  },
  {
   "cell_type": "code",
   "execution_count": null,
   "id": "6e1c13d3",
   "metadata": {},
   "outputs": [],
   "source": []
  }
 ],
 "metadata": {
  "kernelspec": {
   "display_name": "crewai_env",
   "language": "python",
   "name": "python3"
  },
  "language_info": {
   "codemirror_mode": {
    "name": "ipython",
    "version": 3
   },
   "file_extension": ".py",
   "mimetype": "text/x-python",
   "name": "python",
   "nbconvert_exporter": "python",
   "pygments_lexer": "ipython3",
   "version": "3.12.11"
  }
 },
 "nbformat": 4,
 "nbformat_minor": 5
}
